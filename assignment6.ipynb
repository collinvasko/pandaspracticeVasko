{
 "cells": [
  {
   "cell_type": "markdown",
   "id": "12a3181c-7795-41b5-9948-d7ef3dd96718",
   "metadata": {},
   "source": [
    "# Assignment 6: Pandas Practice\n",
    "\n",
    "### Instructions\n",
    "\n",
    "Complete the tasks outlined below. In some cases the code may be partially written, and you need to finish the code. In other cases, you will need to write the entire line of code. Or, you may need to explain in plain English what a code chunk is doing.\n",
    "\n",
    "When you are finished, save the notebook and push the repo to your fork of the repo, and copy/paste the link to your repo into the assignment 6 google form.\n",
    "\n",
    "Feel free to create more cells as needed in order to explore the data and fully answer the questions."
   ]
  },
  {
   "cell_type": "markdown",
   "id": "7720d195-0f3d-4385-be70-7d633e5691fb",
   "metadata": {},
   "source": [
    "## Import pandas\n",
    "\n",
    "What is the standard import statement for pandas? Go ahead and import the pandas library"
   ]
  },
  {
   "cell_type": "code",
   "execution_count": 1,
   "id": "3cf953f9-ea4b-494b-8028-d2fa4c464bf5",
   "metadata": {},
   "outputs": [],
   "source": [
    "import pandas as pd"
   ]
  },
  {
   "cell_type": "markdown",
   "id": "cfe95c8d-d515-4284-a244-e39775cb241b",
   "metadata": {},
   "source": [
    "## Reading in data\n",
    "\n",
    "Read the data in `gapminder_gdp_americas.csv` (in the `data` directory) into a variable called `americas` and display its summary statistics. Remember to specify the `country` column as the index."
   ]
  },
  {
   "cell_type": "code",
   "execution_count": 2,
   "id": "4444a245-faa7-4c7c-b700-a0eac416a024",
   "metadata": {},
   "outputs": [],
   "source": [
    "americas = pd.read_csv('data/gapminder_gdp_americas.csv', index_col = 'country')"
   ]
  },
  {
   "cell_type": "code",
   "execution_count": 3,
   "id": "582efa69-f54a-488c-b94b-74f95d1d13db",
   "metadata": {},
   "outputs": [
    {
     "data": {
      "text/html": [
       "<div>\n",
       "<style scoped>\n",
       "    .dataframe tbody tr th:only-of-type {\n",
       "        vertical-align: middle;\n",
       "    }\n",
       "\n",
       "    .dataframe tbody tr th {\n",
       "        vertical-align: top;\n",
       "    }\n",
       "\n",
       "    .dataframe thead th {\n",
       "        text-align: right;\n",
       "    }\n",
       "</style>\n",
       "<table border=\"1\" class=\"dataframe\">\n",
       "  <thead>\n",
       "    <tr style=\"text-align: right;\">\n",
       "      <th></th>\n",
       "      <th>continent</th>\n",
       "      <th>gdpPercap_1952</th>\n",
       "      <th>gdpPercap_1957</th>\n",
       "      <th>gdpPercap_1962</th>\n",
       "      <th>gdpPercap_1967</th>\n",
       "      <th>gdpPercap_1972</th>\n",
       "      <th>gdpPercap_1977</th>\n",
       "      <th>gdpPercap_1982</th>\n",
       "      <th>gdpPercap_1987</th>\n",
       "      <th>gdpPercap_1992</th>\n",
       "      <th>gdpPercap_1997</th>\n",
       "      <th>gdpPercap_2002</th>\n",
       "      <th>gdpPercap_2007</th>\n",
       "    </tr>\n",
       "    <tr>\n",
       "      <th>country</th>\n",
       "      <th></th>\n",
       "      <th></th>\n",
       "      <th></th>\n",
       "      <th></th>\n",
       "      <th></th>\n",
       "      <th></th>\n",
       "      <th></th>\n",
       "      <th></th>\n",
       "      <th></th>\n",
       "      <th></th>\n",
       "      <th></th>\n",
       "      <th></th>\n",
       "      <th></th>\n",
       "    </tr>\n",
       "  </thead>\n",
       "  <tbody>\n",
       "    <tr>\n",
       "      <th>Argentina</th>\n",
       "      <td>Americas</td>\n",
       "      <td>5911.315053</td>\n",
       "      <td>6856.856212</td>\n",
       "      <td>7133.166023</td>\n",
       "      <td>8052.953021</td>\n",
       "      <td>9443.038526</td>\n",
       "      <td>10079.026740</td>\n",
       "      <td>8997.897412</td>\n",
       "      <td>9139.671389</td>\n",
       "      <td>9308.418710</td>\n",
       "      <td>10967.281950</td>\n",
       "      <td>8797.640716</td>\n",
       "      <td>12779.379640</td>\n",
       "    </tr>\n",
       "    <tr>\n",
       "      <th>Bolivia</th>\n",
       "      <td>Americas</td>\n",
       "      <td>2677.326347</td>\n",
       "      <td>2127.686326</td>\n",
       "      <td>2180.972546</td>\n",
       "      <td>2586.886053</td>\n",
       "      <td>2980.331339</td>\n",
       "      <td>3548.097832</td>\n",
       "      <td>3156.510452</td>\n",
       "      <td>2753.691490</td>\n",
       "      <td>2961.699694</td>\n",
       "      <td>3326.143191</td>\n",
       "      <td>3413.262690</td>\n",
       "      <td>3822.137084</td>\n",
       "    </tr>\n",
       "    <tr>\n",
       "      <th>Brazil</th>\n",
       "      <td>Americas</td>\n",
       "      <td>2108.944355</td>\n",
       "      <td>2487.365989</td>\n",
       "      <td>3336.585802</td>\n",
       "      <td>3429.864357</td>\n",
       "      <td>4985.711467</td>\n",
       "      <td>6660.118654</td>\n",
       "      <td>7030.835878</td>\n",
       "      <td>7807.095818</td>\n",
       "      <td>6950.283021</td>\n",
       "      <td>7957.980824</td>\n",
       "      <td>8131.212843</td>\n",
       "      <td>9065.800825</td>\n",
       "    </tr>\n",
       "    <tr>\n",
       "      <th>Canada</th>\n",
       "      <td>Americas</td>\n",
       "      <td>11367.161120</td>\n",
       "      <td>12489.950060</td>\n",
       "      <td>13462.485550</td>\n",
       "      <td>16076.588030</td>\n",
       "      <td>18970.570860</td>\n",
       "      <td>22090.883060</td>\n",
       "      <td>22898.792140</td>\n",
       "      <td>26626.515030</td>\n",
       "      <td>26342.884260</td>\n",
       "      <td>28954.925890</td>\n",
       "      <td>33328.965070</td>\n",
       "      <td>36319.235010</td>\n",
       "    </tr>\n",
       "    <tr>\n",
       "      <th>Chile</th>\n",
       "      <td>Americas</td>\n",
       "      <td>3939.978789</td>\n",
       "      <td>4315.622723</td>\n",
       "      <td>4519.094331</td>\n",
       "      <td>5106.654313</td>\n",
       "      <td>5494.024437</td>\n",
       "      <td>4756.763836</td>\n",
       "      <td>5095.665738</td>\n",
       "      <td>5547.063754</td>\n",
       "      <td>7596.125964</td>\n",
       "      <td>10118.053180</td>\n",
       "      <td>10778.783850</td>\n",
       "      <td>13171.638850</td>\n",
       "    </tr>\n",
       "  </tbody>\n",
       "</table>\n",
       "</div>"
      ],
      "text/plain": [
       "          continent  gdpPercap_1952  gdpPercap_1957  gdpPercap_1962  \\\n",
       "country                                                               \n",
       "Argentina  Americas     5911.315053     6856.856212     7133.166023   \n",
       "Bolivia    Americas     2677.326347     2127.686326     2180.972546   \n",
       "Brazil     Americas     2108.944355     2487.365989     3336.585802   \n",
       "Canada     Americas    11367.161120    12489.950060    13462.485550   \n",
       "Chile      Americas     3939.978789     4315.622723     4519.094331   \n",
       "\n",
       "           gdpPercap_1967  gdpPercap_1972  gdpPercap_1977  gdpPercap_1982  \\\n",
       "country                                                                     \n",
       "Argentina     8052.953021     9443.038526    10079.026740     8997.897412   \n",
       "Bolivia       2586.886053     2980.331339     3548.097832     3156.510452   \n",
       "Brazil        3429.864357     4985.711467     6660.118654     7030.835878   \n",
       "Canada       16076.588030    18970.570860    22090.883060    22898.792140   \n",
       "Chile         5106.654313     5494.024437     4756.763836     5095.665738   \n",
       "\n",
       "           gdpPercap_1987  gdpPercap_1992  gdpPercap_1997  gdpPercap_2002  \\\n",
       "country                                                                     \n",
       "Argentina     9139.671389     9308.418710    10967.281950     8797.640716   \n",
       "Bolivia       2753.691490     2961.699694     3326.143191     3413.262690   \n",
       "Brazil        7807.095818     6950.283021     7957.980824     8131.212843   \n",
       "Canada       26626.515030    26342.884260    28954.925890    33328.965070   \n",
       "Chile         5547.063754     7596.125964    10118.053180    10778.783850   \n",
       "\n",
       "           gdpPercap_2007  \n",
       "country                    \n",
       "Argentina    12779.379640  \n",
       "Bolivia       3822.137084  \n",
       "Brazil        9065.800825  \n",
       "Canada       36319.235010  \n",
       "Chile        13171.638850  "
      ]
     },
     "execution_count": 3,
     "metadata": {},
     "output_type": "execute_result"
    }
   ],
   "source": [
    "americas.head()"
   ]
  },
  {
   "cell_type": "markdown",
   "id": "0b74d09e-e95e-4f00-96c6-173b7e26bb4e",
   "metadata": {},
   "source": [
    "## Inspecting data\n",
    "\n",
    "After reading the data for the Americas, use help(americas.head) and help(americas.tail) to find out what DataFrame.head and DataFrame.tail do.\n",
    "\n",
    "1. What method call will display the first three rows of this data?\n",
    "2. What method call will display the last three columns of this data? (Hint: you may need to change your view of the data.)"
   ]
  },
  {
   "cell_type": "code",
   "execution_count": 4,
   "id": "6e5fba2e-18bb-4562-94e0-f5d094530477",
   "metadata": {},
   "outputs": [
    {
     "data": {
      "text/html": [
       "<div>\n",
       "<style scoped>\n",
       "    .dataframe tbody tr th:only-of-type {\n",
       "        vertical-align: middle;\n",
       "    }\n",
       "\n",
       "    .dataframe tbody tr th {\n",
       "        vertical-align: top;\n",
       "    }\n",
       "\n",
       "    .dataframe thead th {\n",
       "        text-align: right;\n",
       "    }\n",
       "</style>\n",
       "<table border=\"1\" class=\"dataframe\">\n",
       "  <thead>\n",
       "    <tr style=\"text-align: right;\">\n",
       "      <th></th>\n",
       "      <th>continent</th>\n",
       "      <th>gdpPercap_1952</th>\n",
       "      <th>gdpPercap_1957</th>\n",
       "      <th>gdpPercap_1962</th>\n",
       "      <th>gdpPercap_1967</th>\n",
       "      <th>gdpPercap_1972</th>\n",
       "      <th>gdpPercap_1977</th>\n",
       "      <th>gdpPercap_1982</th>\n",
       "      <th>gdpPercap_1987</th>\n",
       "      <th>gdpPercap_1992</th>\n",
       "      <th>gdpPercap_1997</th>\n",
       "      <th>gdpPercap_2002</th>\n",
       "      <th>gdpPercap_2007</th>\n",
       "    </tr>\n",
       "    <tr>\n",
       "      <th>country</th>\n",
       "      <th></th>\n",
       "      <th></th>\n",
       "      <th></th>\n",
       "      <th></th>\n",
       "      <th></th>\n",
       "      <th></th>\n",
       "      <th></th>\n",
       "      <th></th>\n",
       "      <th></th>\n",
       "      <th></th>\n",
       "      <th></th>\n",
       "      <th></th>\n",
       "      <th></th>\n",
       "    </tr>\n",
       "  </thead>\n",
       "  <tbody>\n",
       "    <tr>\n",
       "      <th>Argentina</th>\n",
       "      <td>Americas</td>\n",
       "      <td>5911.315053</td>\n",
       "      <td>6856.856212</td>\n",
       "      <td>7133.166023</td>\n",
       "      <td>8052.953021</td>\n",
       "      <td>9443.038526</td>\n",
       "      <td>10079.026740</td>\n",
       "      <td>8997.897412</td>\n",
       "      <td>9139.671389</td>\n",
       "      <td>9308.418710</td>\n",
       "      <td>10967.281950</td>\n",
       "      <td>8797.640716</td>\n",
       "      <td>12779.379640</td>\n",
       "    </tr>\n",
       "    <tr>\n",
       "      <th>Bolivia</th>\n",
       "      <td>Americas</td>\n",
       "      <td>2677.326347</td>\n",
       "      <td>2127.686326</td>\n",
       "      <td>2180.972546</td>\n",
       "      <td>2586.886053</td>\n",
       "      <td>2980.331339</td>\n",
       "      <td>3548.097832</td>\n",
       "      <td>3156.510452</td>\n",
       "      <td>2753.691490</td>\n",
       "      <td>2961.699694</td>\n",
       "      <td>3326.143191</td>\n",
       "      <td>3413.262690</td>\n",
       "      <td>3822.137084</td>\n",
       "    </tr>\n",
       "    <tr>\n",
       "      <th>Brazil</th>\n",
       "      <td>Americas</td>\n",
       "      <td>2108.944355</td>\n",
       "      <td>2487.365989</td>\n",
       "      <td>3336.585802</td>\n",
       "      <td>3429.864357</td>\n",
       "      <td>4985.711467</td>\n",
       "      <td>6660.118654</td>\n",
       "      <td>7030.835878</td>\n",
       "      <td>7807.095818</td>\n",
       "      <td>6950.283021</td>\n",
       "      <td>7957.980824</td>\n",
       "      <td>8131.212843</td>\n",
       "      <td>9065.800825</td>\n",
       "    </tr>\n",
       "  </tbody>\n",
       "</table>\n",
       "</div>"
      ],
      "text/plain": [
       "          continent  gdpPercap_1952  gdpPercap_1957  gdpPercap_1962  \\\n",
       "country                                                               \n",
       "Argentina  Americas     5911.315053     6856.856212     7133.166023   \n",
       "Bolivia    Americas     2677.326347     2127.686326     2180.972546   \n",
       "Brazil     Americas     2108.944355     2487.365989     3336.585802   \n",
       "\n",
       "           gdpPercap_1967  gdpPercap_1972  gdpPercap_1977  gdpPercap_1982  \\\n",
       "country                                                                     \n",
       "Argentina     8052.953021     9443.038526    10079.026740     8997.897412   \n",
       "Bolivia       2586.886053     2980.331339     3548.097832     3156.510452   \n",
       "Brazil        3429.864357     4985.711467     6660.118654     7030.835878   \n",
       "\n",
       "           gdpPercap_1987  gdpPercap_1992  gdpPercap_1997  gdpPercap_2002  \\\n",
       "country                                                                     \n",
       "Argentina     9139.671389     9308.418710    10967.281950     8797.640716   \n",
       "Bolivia       2753.691490     2961.699694     3326.143191     3413.262690   \n",
       "Brazil        7807.095818     6950.283021     7957.980824     8131.212843   \n",
       "\n",
       "           gdpPercap_2007  \n",
       "country                    \n",
       "Argentina    12779.379640  \n",
       "Bolivia       3822.137084  \n",
       "Brazil        9065.800825  "
      ]
     },
     "execution_count": 4,
     "metadata": {},
     "output_type": "execute_result"
    }
   ],
   "source": [
    "americas.head(3)"
   ]
  },
  {
   "cell_type": "code",
   "execution_count": 5,
   "id": "fe061553-6edf-4280-9549-5ebbd9c3315a",
   "metadata": {},
   "outputs": [],
   "source": [
    "americas_flipped = americas.T.tail(3).T"
   ]
  },
  {
   "cell_type": "code",
   "execution_count": 6,
   "id": "7909f5af-7f2a-497f-90f9-29dfe378f183",
   "metadata": {},
   "outputs": [
    {
     "data": {
      "text/html": [
       "<div>\n",
       "<style scoped>\n",
       "    .dataframe tbody tr th:only-of-type {\n",
       "        vertical-align: middle;\n",
       "    }\n",
       "\n",
       "    .dataframe tbody tr th {\n",
       "        vertical-align: top;\n",
       "    }\n",
       "\n",
       "    .dataframe thead th {\n",
       "        text-align: right;\n",
       "    }\n",
       "</style>\n",
       "<table border=\"1\" class=\"dataframe\">\n",
       "  <thead>\n",
       "    <tr style=\"text-align: right;\">\n",
       "      <th></th>\n",
       "      <th>gdpPercap_1997</th>\n",
       "      <th>gdpPercap_2002</th>\n",
       "      <th>gdpPercap_2007</th>\n",
       "    </tr>\n",
       "    <tr>\n",
       "      <th>country</th>\n",
       "      <th></th>\n",
       "      <th></th>\n",
       "      <th></th>\n",
       "    </tr>\n",
       "  </thead>\n",
       "  <tbody>\n",
       "    <tr>\n",
       "      <th>Argentina</th>\n",
       "      <td>10967.28195</td>\n",
       "      <td>8797.640716</td>\n",
       "      <td>12779.37964</td>\n",
       "    </tr>\n",
       "    <tr>\n",
       "      <th>Bolivia</th>\n",
       "      <td>3326.143191</td>\n",
       "      <td>3413.26269</td>\n",
       "      <td>3822.137084</td>\n",
       "    </tr>\n",
       "    <tr>\n",
       "      <th>Brazil</th>\n",
       "      <td>7957.980824</td>\n",
       "      <td>8131.212843</td>\n",
       "      <td>9065.800825</td>\n",
       "    </tr>\n",
       "    <tr>\n",
       "      <th>Canada</th>\n",
       "      <td>28954.92589</td>\n",
       "      <td>33328.96507</td>\n",
       "      <td>36319.23501</td>\n",
       "    </tr>\n",
       "    <tr>\n",
       "      <th>Chile</th>\n",
       "      <td>10118.05318</td>\n",
       "      <td>10778.78385</td>\n",
       "      <td>13171.63885</td>\n",
       "    </tr>\n",
       "  </tbody>\n",
       "</table>\n",
       "</div>"
      ],
      "text/plain": [
       "          gdpPercap_1997 gdpPercap_2002 gdpPercap_2007\n",
       "country                                               \n",
       "Argentina    10967.28195    8797.640716    12779.37964\n",
       "Bolivia      3326.143191     3413.26269    3822.137084\n",
       "Brazil       7957.980824    8131.212843    9065.800825\n",
       "Canada       28954.92589    33328.96507    36319.23501\n",
       "Chile        10118.05318    10778.78385    13171.63885"
      ]
     },
     "execution_count": 6,
     "metadata": {},
     "output_type": "execute_result"
    }
   ],
   "source": [
    "americas_flipped.head()"
   ]
  },
  {
   "cell_type": "markdown",
   "id": "2522bac5-46da-4953-911c-c1d7dc52fec3",
   "metadata": {},
   "source": [
    "## Selection of Individual Values\n",
    "\n",
    "Write an expression to find the Per Capita GDP of Chile in 1992."
   ]
  },
  {
   "cell_type": "code",
   "execution_count": 7,
   "id": "07644cb1-7002-4ddf-95ac-bae8822c4b1e",
   "metadata": {},
   "outputs": [
    {
     "data": {
      "text/plain": [
       "7596.125964"
      ]
     },
     "execution_count": 7,
     "metadata": {},
     "output_type": "execute_result"
    }
   ],
   "source": [
    "americas.loc['Chile','gdpPercap_1992']"
   ]
  },
  {
   "cell_type": "markdown",
   "id": "faf470c4-ba79-4dd6-a72d-5804b2d7cb0c",
   "metadata": {},
   "source": [
    "What expression will produce an identical result?"
   ]
  },
  {
   "cell_type": "code",
   "execution_count": 8,
   "id": "b5a2ad56-38d4-47b3-a9e9-3b6faf3c0bab",
   "metadata": {},
   "outputs": [
    {
     "data": {
      "text/plain": [
       "7596.125964"
      ]
     },
     "execution_count": 8,
     "metadata": {},
     "output_type": "execute_result"
    }
   ],
   "source": [
    "americas.iloc[4,9]"
   ]
  },
  {
   "cell_type": "markdown",
   "id": "169ccd62-6670-4c94-95c5-bbfdc6ddf2b8",
   "metadata": {},
   "source": [
    "## Reconstrucing Data\n",
    "\n",
    "Explain what each line in the following short program does: what is in first, second, etc.?"
   ]
  },
  {
   "cell_type": "code",
   "execution_count": null,
   "id": "5e09f571-6df0-4349-afb1-c348156919e6",
   "metadata": {},
   "outputs": [],
   "source": [
    "first = pd.read_csv('data/gapminder_all.csv', index_col='country')\n",
    "second = first[first['continent'] == 'Americas']\n",
    "third = second.drop('Puerto Rico')\n",
    "fourth = third.drop('continent', axis = 1)\n",
    "fourth.to_csv('result.csv')"
   ]
  },
  {
   "cell_type": "markdown",
   "id": "6a9f50a8-5263-4d38-b2bc-010007784a9d",
   "metadata": {},
   "source": [
    "### first\n",
    "All data is read into the first variable while the country column is identified as the index. \n",
    "### second\n",
    "All countries located on the continent 'Americas' are stored in the second variable. \n",
    "### third\n",
    "The 'Puerto Rico' row is dropped from the second variable and inserted into a new variable identified as the third variable.\n",
    "### fourth\n",
    "'continent' is dropped from the dataframe in the third variable. This new dataframe is labeled as the fourth variable.\n",
    "### fifth\n",
    "The fourth variable is converted to a .csv file named 'result'"
   ]
  },
  {
   "cell_type": "markdown",
   "id": "33465cba-f98b-4156-8ea7-11c06a18c387",
   "metadata": {},
   "source": [
    "## Selecting Indices\n",
    "\n",
    "Explain in simple terms what idxmin and idxmax do in the short program below. When would you use these methods?"
   ]
  },
  {
   "cell_type": "code",
   "execution_count": 9,
   "id": "de52a2b3-4af3-4a54-9336-c81e199209c8",
   "metadata": {},
   "outputs": [
    {
     "name": "stdout",
     "output_type": "stream",
     "text": [
      "gdpPercap_1952    Bosnia and Herzegovina\n",
      "gdpPercap_1957    Bosnia and Herzegovina\n",
      "gdpPercap_1962    Bosnia and Herzegovina\n",
      "gdpPercap_1967    Bosnia and Herzegovina\n",
      "gdpPercap_1972    Bosnia and Herzegovina\n",
      "gdpPercap_1977    Bosnia and Herzegovina\n",
      "gdpPercap_1982                   Albania\n",
      "gdpPercap_1987                   Albania\n",
      "gdpPercap_1992                   Albania\n",
      "gdpPercap_1997                   Albania\n",
      "gdpPercap_2002                   Albania\n",
      "gdpPercap_2007                   Albania\n",
      "dtype: object\n",
      "gdpPercap_1952    Switzerland\n",
      "gdpPercap_1957    Switzerland\n",
      "gdpPercap_1962    Switzerland\n",
      "gdpPercap_1967    Switzerland\n",
      "gdpPercap_1972    Switzerland\n",
      "gdpPercap_1977    Switzerland\n",
      "gdpPercap_1982    Switzerland\n",
      "gdpPercap_1987         Norway\n",
      "gdpPercap_1992         Norway\n",
      "gdpPercap_1997         Norway\n",
      "gdpPercap_2002         Norway\n",
      "gdpPercap_2007         Norway\n",
      "dtype: object\n"
     ]
    }
   ],
   "source": [
    "data = pd.read_csv('data/gapminder_gdp_europe.csv', index_col='country')\n",
    "print(data.idxmin())\n",
    "print(data.idxmax())\n",
    "\n",
    "#data.idxmin retreives the minimum value of GDP per capita for each column.\n",
    "#data.idmax retreives the maximum value of GDP per capita for each column.\n",
    "\n",
    "#I would use these to identify patterns of GDP amounts per capita for each country or to known min/max values for each country."
   ]
  },
  {
   "cell_type": "markdown",
   "id": "8f5d7965-7928-4f41-8a9f-f9c3beb8fd54",
   "metadata": {},
   "source": [
    "## Practice with Selection\n",
    "\n",
    "Using the `data` dataframe above, with GDP data for Europe, write an expression to select:\n",
    "\n",
    "\n",
    "1. GDP per capita for all countries in 1982.\n",
    "2. GDP per capita for Denmark for all years.\n",
    "3. GDP per capita for all countries for years after 1985.\n",
    "4. GDP per capita for each country in 2007 as a multiple of GDP per capita for that country in 1952."
   ]
  },
  {
   "cell_type": "code",
   "execution_count": 10,
   "id": "d4537be4-4277-4b4b-a04f-5ac32a161aac",
   "metadata": {},
   "outputs": [
    {
     "data": {
      "text/plain": [
       "country\n",
       "Albania                    3630.880722\n",
       "Austria                   21597.083620\n",
       "Belgium                   20979.845890\n",
       "Bosnia and Herzegovina     4126.613157\n",
       "Bulgaria                   8224.191647\n",
       "Croatia                   13221.821840\n",
       "Czech Republic            15377.228550\n",
       "Denmark                   21688.040480\n",
       "Finland                   18533.157610\n",
       "France                    20293.897460\n",
       "Germany                   22031.532740\n",
       "Greece                    15268.420890\n",
       "Hungary                   12545.990660\n",
       "Iceland                   23269.607500\n",
       "Ireland                   12618.321410\n",
       "Italy                     16537.483500\n",
       "Montenegro                11222.587620\n",
       "Netherlands               21399.460460\n",
       "Norway                    26298.635310\n",
       "Poland                     8451.531004\n",
       "Portugal                  11753.842910\n",
       "Romania                    9605.314053\n",
       "Serbia                    15181.092700\n",
       "Slovak Republic           11348.545850\n",
       "Slovenia                  17866.721750\n",
       "Spain                     13926.169970\n",
       "Sweden                    20667.381250\n",
       "Switzerland               28397.715120\n",
       "Turkey                     4241.356344\n",
       "United Kingdom            18232.424520\n",
       "Name: gdpPercap_1982, dtype: float64"
      ]
     },
     "execution_count": 10,
     "metadata": {},
     "output_type": "execute_result"
    }
   ],
   "source": [
    "data['gdpPercap_1982']"
   ]
  },
  {
   "cell_type": "code",
   "execution_count": 11,
   "id": "57d9fd5c-e931-43a9-a024-48df18e180ac",
   "metadata": {},
   "outputs": [
    {
     "data": {
      "text/plain": [
       "gdpPercap_1952     9692.385245\n",
       "gdpPercap_1957    11099.659350\n",
       "gdpPercap_1962    13583.313510\n",
       "gdpPercap_1967    15937.211230\n",
       "gdpPercap_1972    18866.207210\n",
       "gdpPercap_1977    20422.901500\n",
       "gdpPercap_1982    21688.040480\n",
       "gdpPercap_1987    25116.175810\n",
       "gdpPercap_1992    26406.739850\n",
       "gdpPercap_1997    29804.345670\n",
       "gdpPercap_2002    32166.500060\n",
       "gdpPercap_2007    35278.418740\n",
       "Name: Denmark, dtype: float64"
      ]
     },
     "execution_count": 11,
     "metadata": {},
     "output_type": "execute_result"
    }
   ],
   "source": [
    "data.loc['Denmark']"
   ]
  },
  {
   "cell_type": "code",
   "execution_count": 12,
   "id": "2c1715ab-8dba-4474-b99e-93035154af48",
   "metadata": {},
   "outputs": [
    {
     "data": {
      "text/html": [
       "<div>\n",
       "<style scoped>\n",
       "    .dataframe tbody tr th:only-of-type {\n",
       "        vertical-align: middle;\n",
       "    }\n",
       "\n",
       "    .dataframe tbody tr th {\n",
       "        vertical-align: top;\n",
       "    }\n",
       "\n",
       "    .dataframe thead th {\n",
       "        text-align: right;\n",
       "    }\n",
       "</style>\n",
       "<table border=\"1\" class=\"dataframe\">\n",
       "  <thead>\n",
       "    <tr style=\"text-align: right;\">\n",
       "      <th></th>\n",
       "      <th>gdpPercap_1987</th>\n",
       "      <th>gdpPercap_1992</th>\n",
       "      <th>gdpPercap_1997</th>\n",
       "      <th>gdpPercap_2002</th>\n",
       "      <th>gdpPercap_2007</th>\n",
       "    </tr>\n",
       "    <tr>\n",
       "      <th>country</th>\n",
       "      <th></th>\n",
       "      <th></th>\n",
       "      <th></th>\n",
       "      <th></th>\n",
       "      <th></th>\n",
       "    </tr>\n",
       "  </thead>\n",
       "  <tbody>\n",
       "    <tr>\n",
       "      <th>Albania</th>\n",
       "      <td>3738.932735</td>\n",
       "      <td>2497.437901</td>\n",
       "      <td>3193.054604</td>\n",
       "      <td>4604.211737</td>\n",
       "      <td>5937.029526</td>\n",
       "    </tr>\n",
       "    <tr>\n",
       "      <th>Austria</th>\n",
       "      <td>23687.826070</td>\n",
       "      <td>27042.018680</td>\n",
       "      <td>29095.920660</td>\n",
       "      <td>32417.607690</td>\n",
       "      <td>36126.492700</td>\n",
       "    </tr>\n",
       "    <tr>\n",
       "      <th>Belgium</th>\n",
       "      <td>22525.563080</td>\n",
       "      <td>25575.570690</td>\n",
       "      <td>27561.196630</td>\n",
       "      <td>30485.883750</td>\n",
       "      <td>33692.605080</td>\n",
       "    </tr>\n",
       "    <tr>\n",
       "      <th>Bosnia and Herzegovina</th>\n",
       "      <td>4314.114757</td>\n",
       "      <td>2546.781445</td>\n",
       "      <td>4766.355904</td>\n",
       "      <td>6018.975239</td>\n",
       "      <td>7446.298803</td>\n",
       "    </tr>\n",
       "    <tr>\n",
       "      <th>Bulgaria</th>\n",
       "      <td>8239.854824</td>\n",
       "      <td>6302.623438</td>\n",
       "      <td>5970.388760</td>\n",
       "      <td>7696.777725</td>\n",
       "      <td>10680.792820</td>\n",
       "    </tr>\n",
       "    <tr>\n",
       "      <th>Croatia</th>\n",
       "      <td>13822.583940</td>\n",
       "      <td>8447.794873</td>\n",
       "      <td>9875.604515</td>\n",
       "      <td>11628.388950</td>\n",
       "      <td>14619.222720</td>\n",
       "    </tr>\n",
       "    <tr>\n",
       "      <th>Czech Republic</th>\n",
       "      <td>16310.443400</td>\n",
       "      <td>14297.021220</td>\n",
       "      <td>16048.514240</td>\n",
       "      <td>17596.210220</td>\n",
       "      <td>22833.308510</td>\n",
       "    </tr>\n",
       "    <tr>\n",
       "      <th>Denmark</th>\n",
       "      <td>25116.175810</td>\n",
       "      <td>26406.739850</td>\n",
       "      <td>29804.345670</td>\n",
       "      <td>32166.500060</td>\n",
       "      <td>35278.418740</td>\n",
       "    </tr>\n",
       "    <tr>\n",
       "      <th>Finland</th>\n",
       "      <td>21141.012230</td>\n",
       "      <td>20647.164990</td>\n",
       "      <td>23723.950200</td>\n",
       "      <td>28204.590570</td>\n",
       "      <td>33207.084400</td>\n",
       "    </tr>\n",
       "    <tr>\n",
       "      <th>France</th>\n",
       "      <td>22066.442140</td>\n",
       "      <td>24703.796150</td>\n",
       "      <td>25889.784870</td>\n",
       "      <td>28926.032340</td>\n",
       "      <td>30470.016700</td>\n",
       "    </tr>\n",
       "    <tr>\n",
       "      <th>Germany</th>\n",
       "      <td>24639.185660</td>\n",
       "      <td>26505.303170</td>\n",
       "      <td>27788.884160</td>\n",
       "      <td>30035.801980</td>\n",
       "      <td>32170.374420</td>\n",
       "    </tr>\n",
       "    <tr>\n",
       "      <th>Greece</th>\n",
       "      <td>16120.528390</td>\n",
       "      <td>17541.496340</td>\n",
       "      <td>18747.698140</td>\n",
       "      <td>22514.254800</td>\n",
       "      <td>27538.411880</td>\n",
       "    </tr>\n",
       "    <tr>\n",
       "      <th>Hungary</th>\n",
       "      <td>12986.479980</td>\n",
       "      <td>10535.628550</td>\n",
       "      <td>11712.776800</td>\n",
       "      <td>14843.935560</td>\n",
       "      <td>18008.944440</td>\n",
       "    </tr>\n",
       "    <tr>\n",
       "      <th>Iceland</th>\n",
       "      <td>26923.206280</td>\n",
       "      <td>25144.392010</td>\n",
       "      <td>28061.099660</td>\n",
       "      <td>31163.201960</td>\n",
       "      <td>36180.789190</td>\n",
       "    </tr>\n",
       "    <tr>\n",
       "      <th>Ireland</th>\n",
       "      <td>13872.866520</td>\n",
       "      <td>17558.815550</td>\n",
       "      <td>24521.947130</td>\n",
       "      <td>34077.049390</td>\n",
       "      <td>40675.996350</td>\n",
       "    </tr>\n",
       "    <tr>\n",
       "      <th>Italy</th>\n",
       "      <td>19207.234820</td>\n",
       "      <td>22013.644860</td>\n",
       "      <td>24675.024460</td>\n",
       "      <td>27968.098170</td>\n",
       "      <td>28569.719700</td>\n",
       "    </tr>\n",
       "    <tr>\n",
       "      <th>Montenegro</th>\n",
       "      <td>11732.510170</td>\n",
       "      <td>7003.339037</td>\n",
       "      <td>6465.613349</td>\n",
       "      <td>6557.194282</td>\n",
       "      <td>9253.896111</td>\n",
       "    </tr>\n",
       "    <tr>\n",
       "      <th>Netherlands</th>\n",
       "      <td>23651.323610</td>\n",
       "      <td>26790.949610</td>\n",
       "      <td>30246.130630</td>\n",
       "      <td>33724.757780</td>\n",
       "      <td>36797.933320</td>\n",
       "    </tr>\n",
       "    <tr>\n",
       "      <th>Norway</th>\n",
       "      <td>31540.974800</td>\n",
       "      <td>33965.661150</td>\n",
       "      <td>41283.164330</td>\n",
       "      <td>44683.975250</td>\n",
       "      <td>49357.190170</td>\n",
       "    </tr>\n",
       "    <tr>\n",
       "      <th>Poland</th>\n",
       "      <td>9082.351172</td>\n",
       "      <td>7738.881247</td>\n",
       "      <td>10159.583680</td>\n",
       "      <td>12002.239080</td>\n",
       "      <td>15389.924680</td>\n",
       "    </tr>\n",
       "    <tr>\n",
       "      <th>Portugal</th>\n",
       "      <td>13039.308760</td>\n",
       "      <td>16207.266630</td>\n",
       "      <td>17641.031560</td>\n",
       "      <td>19970.907870</td>\n",
       "      <td>20509.647770</td>\n",
       "    </tr>\n",
       "    <tr>\n",
       "      <th>Romania</th>\n",
       "      <td>9696.273295</td>\n",
       "      <td>6598.409903</td>\n",
       "      <td>7346.547557</td>\n",
       "      <td>7885.360081</td>\n",
       "      <td>10808.475610</td>\n",
       "    </tr>\n",
       "    <tr>\n",
       "      <th>Serbia</th>\n",
       "      <td>15870.878510</td>\n",
       "      <td>9325.068238</td>\n",
       "      <td>7914.320304</td>\n",
       "      <td>7236.075251</td>\n",
       "      <td>9786.534714</td>\n",
       "    </tr>\n",
       "    <tr>\n",
       "      <th>Slovak Republic</th>\n",
       "      <td>12037.267580</td>\n",
       "      <td>9498.467723</td>\n",
       "      <td>12126.230650</td>\n",
       "      <td>13638.778370</td>\n",
       "      <td>18678.314350</td>\n",
       "    </tr>\n",
       "    <tr>\n",
       "      <th>Slovenia</th>\n",
       "      <td>18678.534920</td>\n",
       "      <td>14214.716810</td>\n",
       "      <td>17161.107350</td>\n",
       "      <td>20660.019360</td>\n",
       "      <td>25768.257590</td>\n",
       "    </tr>\n",
       "    <tr>\n",
       "      <th>Spain</th>\n",
       "      <td>15764.983130</td>\n",
       "      <td>18603.064520</td>\n",
       "      <td>20445.298960</td>\n",
       "      <td>24835.471660</td>\n",
       "      <td>28821.063700</td>\n",
       "    </tr>\n",
       "    <tr>\n",
       "      <th>Sweden</th>\n",
       "      <td>23586.929270</td>\n",
       "      <td>23880.016830</td>\n",
       "      <td>25266.594990</td>\n",
       "      <td>29341.630930</td>\n",
       "      <td>33859.748350</td>\n",
       "    </tr>\n",
       "    <tr>\n",
       "      <th>Switzerland</th>\n",
       "      <td>30281.704590</td>\n",
       "      <td>31871.530300</td>\n",
       "      <td>32135.323010</td>\n",
       "      <td>34480.957710</td>\n",
       "      <td>37506.419070</td>\n",
       "    </tr>\n",
       "    <tr>\n",
       "      <th>Turkey</th>\n",
       "      <td>5089.043686</td>\n",
       "      <td>5678.348271</td>\n",
       "      <td>6601.429915</td>\n",
       "      <td>6508.085718</td>\n",
       "      <td>8458.276384</td>\n",
       "    </tr>\n",
       "    <tr>\n",
       "      <th>United Kingdom</th>\n",
       "      <td>21664.787670</td>\n",
       "      <td>22705.092540</td>\n",
       "      <td>26074.531360</td>\n",
       "      <td>29478.999190</td>\n",
       "      <td>33203.261280</td>\n",
       "    </tr>\n",
       "  </tbody>\n",
       "</table>\n",
       "</div>"
      ],
      "text/plain": [
       "                        gdpPercap_1987  gdpPercap_1992  gdpPercap_1997  \\\n",
       "country                                                                  \n",
       "Albania                    3738.932735     2497.437901     3193.054604   \n",
       "Austria                   23687.826070    27042.018680    29095.920660   \n",
       "Belgium                   22525.563080    25575.570690    27561.196630   \n",
       "Bosnia and Herzegovina     4314.114757     2546.781445     4766.355904   \n",
       "Bulgaria                   8239.854824     6302.623438     5970.388760   \n",
       "Croatia                   13822.583940     8447.794873     9875.604515   \n",
       "Czech Republic            16310.443400    14297.021220    16048.514240   \n",
       "Denmark                   25116.175810    26406.739850    29804.345670   \n",
       "Finland                   21141.012230    20647.164990    23723.950200   \n",
       "France                    22066.442140    24703.796150    25889.784870   \n",
       "Germany                   24639.185660    26505.303170    27788.884160   \n",
       "Greece                    16120.528390    17541.496340    18747.698140   \n",
       "Hungary                   12986.479980    10535.628550    11712.776800   \n",
       "Iceland                   26923.206280    25144.392010    28061.099660   \n",
       "Ireland                   13872.866520    17558.815550    24521.947130   \n",
       "Italy                     19207.234820    22013.644860    24675.024460   \n",
       "Montenegro                11732.510170     7003.339037     6465.613349   \n",
       "Netherlands               23651.323610    26790.949610    30246.130630   \n",
       "Norway                    31540.974800    33965.661150    41283.164330   \n",
       "Poland                     9082.351172     7738.881247    10159.583680   \n",
       "Portugal                  13039.308760    16207.266630    17641.031560   \n",
       "Romania                    9696.273295     6598.409903     7346.547557   \n",
       "Serbia                    15870.878510     9325.068238     7914.320304   \n",
       "Slovak Republic           12037.267580     9498.467723    12126.230650   \n",
       "Slovenia                  18678.534920    14214.716810    17161.107350   \n",
       "Spain                     15764.983130    18603.064520    20445.298960   \n",
       "Sweden                    23586.929270    23880.016830    25266.594990   \n",
       "Switzerland               30281.704590    31871.530300    32135.323010   \n",
       "Turkey                     5089.043686     5678.348271     6601.429915   \n",
       "United Kingdom            21664.787670    22705.092540    26074.531360   \n",
       "\n",
       "                        gdpPercap_2002  gdpPercap_2007  \n",
       "country                                                 \n",
       "Albania                    4604.211737     5937.029526  \n",
       "Austria                   32417.607690    36126.492700  \n",
       "Belgium                   30485.883750    33692.605080  \n",
       "Bosnia and Herzegovina     6018.975239     7446.298803  \n",
       "Bulgaria                   7696.777725    10680.792820  \n",
       "Croatia                   11628.388950    14619.222720  \n",
       "Czech Republic            17596.210220    22833.308510  \n",
       "Denmark                   32166.500060    35278.418740  \n",
       "Finland                   28204.590570    33207.084400  \n",
       "France                    28926.032340    30470.016700  \n",
       "Germany                   30035.801980    32170.374420  \n",
       "Greece                    22514.254800    27538.411880  \n",
       "Hungary                   14843.935560    18008.944440  \n",
       "Iceland                   31163.201960    36180.789190  \n",
       "Ireland                   34077.049390    40675.996350  \n",
       "Italy                     27968.098170    28569.719700  \n",
       "Montenegro                 6557.194282     9253.896111  \n",
       "Netherlands               33724.757780    36797.933320  \n",
       "Norway                    44683.975250    49357.190170  \n",
       "Poland                    12002.239080    15389.924680  \n",
       "Portugal                  19970.907870    20509.647770  \n",
       "Romania                    7885.360081    10808.475610  \n",
       "Serbia                     7236.075251     9786.534714  \n",
       "Slovak Republic           13638.778370    18678.314350  \n",
       "Slovenia                  20660.019360    25768.257590  \n",
       "Spain                     24835.471660    28821.063700  \n",
       "Sweden                    29341.630930    33859.748350  \n",
       "Switzerland               34480.957710    37506.419070  \n",
       "Turkey                     6508.085718     8458.276384  \n",
       "United Kingdom            29478.999190    33203.261280  "
      ]
     },
     "execution_count": 12,
     "metadata": {},
     "output_type": "execute_result"
    }
   ],
   "source": [
    "data[['gdpPercap_1987', 'gdpPercap_1992', 'gdpPercap_1997', 'gdpPercap_2002', 'gdpPercap_2007']]"
   ]
  },
  {
   "cell_type": "code",
   "execution_count": 13,
   "id": "aa5cd36b-81fd-4c8f-a320-f30144111f53",
   "metadata": {},
   "outputs": [
    {
     "data": {
      "text/plain": [
       "country\n",
       "Albania                   3.708196\n",
       "Austria                   5.886596\n",
       "Belgium                   4.038377\n",
       "Bosnia and Herzegovina    7.648736\n",
       "Bulgaria                  4.369697\n",
       "Croatia                   4.686795\n",
       "Czech Republic            3.320658\n",
       "Denmark                   3.639808\n",
       "Finland                   5.168805\n",
       "France                    4.334402\n",
       "Germany                   4.503060\n",
       "Greece                    7.799725\n",
       "Hungary                   3.421364\n",
       "Iceland                   4.978308\n",
       "Ireland                   7.806873\n",
       "Italy                     5.793425\n",
       "Montenegro                3.495221\n",
       "Netherlands               4.115376\n",
       "Norway                    4.889067\n",
       "Poland                    3.819475\n",
       "Portugal                  6.684325\n",
       "Romania                   3.437140\n",
       "Serbia                    2.732555\n",
       "Slovak Republic           3.680703\n",
       "Slovenia                  6.113405\n",
       "Spain                     7.517163\n",
       "Sweden                    3.970493\n",
       "Switzerland               2.545529\n",
       "Turkey                    4.295502\n",
       "United Kingdom            3.327144\n",
       "dtype: float64"
      ]
     },
     "execution_count": 13,
     "metadata": {},
     "output_type": "execute_result"
    }
   ],
   "source": [
    "data['gdpPercap_2007']/data['gdpPercap_1952']"
   ]
  },
  {
   "cell_type": "markdown",
   "id": "278aad4c-a946-4c4d-8f20-9808b0c0650b",
   "metadata": {},
   "source": [
    "## Import matplotlib's sublibrary pyplot using the standard import statement"
   ]
  },
  {
   "cell_type": "code",
   "execution_count": 14,
   "id": "b2ef5576-378b-42a0-a980-7c5fe87ae603",
   "metadata": {},
   "outputs": [],
   "source": [
    "import matplotlib.pyplot as plt"
   ]
  },
  {
   "cell_type": "markdown",
   "id": "79392258-5541-4d03-b404-71518b22ef1e",
   "metadata": {},
   "source": [
    "## Minima and Maxima\n",
    "\n",
    "Fill in the blanks below to plot the minimum GDP per capita over time for all the countries in Europe. \n",
    "\n",
    "Modify it again to plot the maximum GDP per capita over time for Europe."
   ]
  },
  {
   "cell_type": "code",
   "execution_count": 15,
   "id": "1aecc763-90db-4040-9981-2f67cb59e62e",
   "metadata": {},
   "outputs": [],
   "source": [
    "data_europe = pd.read_csv('data/gapminder_gdp_europe.csv', index_col='country')"
   ]
  },
  {
   "cell_type": "code",
   "execution_count": 17,
   "id": "6239c3be-58ff-461d-b1d2-51b78c436932",
   "metadata": {},
   "outputs": [
    {
     "data": {
      "text/plain": [
       "(array([-2.,  0.,  2.,  4.,  6.,  8., 10., 12.]),\n",
       " [Text(-2.0, 0, 'gdpPercap_2002'),\n",
       "  Text(0.0, 0, 'gdpPercap_1952'),\n",
       "  Text(2.0, 0, 'gdpPercap_1962'),\n",
       "  Text(4.0, 0, 'gdpPercap_1972'),\n",
       "  Text(6.0, 0, 'gdpPercap_1982'),\n",
       "  Text(8.0, 0, 'gdpPercap_1992'),\n",
       "  Text(10.0, 0, 'gdpPercap_2002'),\n",
       "  Text(12.0, 0, '')])"
      ]
     },
     "execution_count": 17,
     "metadata": {},
     "output_type": "execute_result"
    },
    {
     "data": {
      "image/png": "[encoded data removed]",
      "text/plain": [
       "<Figure size 432x288 with 1 Axes>"
      ]
     },
     "metadata": {
      "needs_background": "light"
     },
     "output_type": "display_data"
    }
   ],
   "source": [
    "data_europe.min().plot(label='min')\n",
    "data_europe.min\n",
    "plt.legend(loc='best')\n",
    "plt.xticks(rotation=90)"
   ]
  },
  {
   "cell_type": "code",
   "execution_count": 18,
   "id": "0c53edd7-76a5-4892-ad5d-695b4a7e236a",
   "metadata": {},
   "outputs": [
    {
     "data": {
      "text/plain": [
       "(array([-2.,  0.,  2.,  4.,  6.,  8., 10., 12.]),\n",
       " [Text(-2.0, 0, 'gdpPercap_2002'),\n",
       "  Text(0.0, 0, 'gdpPercap_1952'),\n",
       "  Text(2.0, 0, 'gdpPercap_1962'),\n",
       "  Text(4.0, 0, 'gdpPercap_1972'),\n",
       "  Text(6.0, 0, 'gdpPercap_1982'),\n",
       "  Text(8.0, 0, 'gdpPercap_1992'),\n",
       "  Text(10.0, 0, 'gdpPercap_2002'),\n",
       "  Text(12.0, 0, '')])"
      ]
     },
     "execution_count": 18,
     "metadata": {},
     "output_type": "execute_result"
    },
    {
     "data": {
      "image/png": "[encoded data removed]",
      "text/plain": [
       "<Figure size 432x288 with 1 Axes>"
      ]
     },
     "metadata": {
      "needs_background": "light"
     },
     "output_type": "display_data"
    }
   ],
   "source": [
    "data_europe.max().plot(label='max')\n",
    "data_europe.max\n",
    "plt.legend(loc='best')\n",
    "plt.xticks(rotation=90)"
   ]
  },
  {
   "cell_type": "markdown",
   "id": "288e96f8-847a-46c4-811a-8df8b024c146",
   "metadata": {},
   "source": [
    "## Correlations\n",
    "\n",
    "Finish the code below to create a scatter plot showing the relationship between the minimum and maximum GDP per capita among the countries in Asia for each year in the data set. What relationship do you see (if any)?"
   ]
  },
  {
   "cell_type": "code",
   "execution_count": 19,
   "id": "3954c80f-a1e1-4e05-9bd2-6c09f6ee33a4",
   "metadata": {},
   "outputs": [
    {
     "data": {
      "text/plain": [
       "<AxesSubplot:xlabel='min', ylabel='max'>"
      ]
     },
     "execution_count": 19,
     "metadata": {},
     "output_type": "execute_result"
    },
    {
     "data": {
      "image/png": "[encoded data removed]",
      "text/plain": [
       "<Figure size 432x288 with 1 Axes>"
      ]
     },
     "metadata": {
      "needs_background": "light"
     },
     "output_type": "display_data"
    }
   ],
   "source": [
    "data_asia = pd.read_csv('data/gapminder_gdp_asia.csv', index_col='country')\n",
    "data_asia.describe().T.plot.scatter(x = 'min', y = 'max')\n",
    "\n",
    "#Asian countries seem to experience a dramatic decrease in maximum GDP per capita when the minimum GDP per capita rises over 400."
   ]
  },
  {
   "cell_type": "markdown",
   "id": "c1e9b8ca-8f5f-412d-ab14-cf70ba3a1e1a",
   "metadata": {},
   "source": [
    "### relationship of min/max GDP for countries in Asia\n"
   ]
  },
  {
   "cell_type": "markdown",
   "id": "2472f8c2-ebd2-4398-9ac6-4fcc4dd8ea41",
   "metadata": {},
   "source": [
    "You might note that the variability in the maximum is much higher than that of the minimum. Take a look at the maximum and the max indexes:"
   ]
  },
  {
   "cell_type": "code",
   "execution_count": 20,
   "id": "ca8bf65f-8885-4981-932d-f83697b0df2a",
   "metadata": {},
   "outputs": [
    {
     "name": "stdout",
     "output_type": "stream",
     "text": [
      "gdpPercap_1952          Kuwait\n",
      "gdpPercap_1957          Kuwait\n",
      "gdpPercap_1962          Kuwait\n",
      "gdpPercap_1967          Kuwait\n",
      "gdpPercap_1972          Kuwait\n",
      "gdpPercap_1977          Kuwait\n",
      "gdpPercap_1982    Saudi Arabia\n",
      "gdpPercap_1987          Kuwait\n",
      "gdpPercap_1992          Kuwait\n",
      "gdpPercap_1997          Kuwait\n",
      "gdpPercap_2002       Singapore\n",
      "gdpPercap_2007          Kuwait\n",
      "dtype: object\n",
      "gdpPercap_1952    Myanmar\n",
      "gdpPercap_1957    Myanmar\n",
      "gdpPercap_1962    Myanmar\n",
      "gdpPercap_1967    Myanmar\n",
      "gdpPercap_1972    Myanmar\n",
      "gdpPercap_1977    Myanmar\n",
      "gdpPercap_1982    Myanmar\n",
      "gdpPercap_1987    Myanmar\n",
      "gdpPercap_1992    Myanmar\n",
      "gdpPercap_1997    Myanmar\n",
      "gdpPercap_2002    Myanmar\n",
      "gdpPercap_2007    Myanmar\n",
      "dtype: object\n"
     ]
    },
    {
     "data": {
      "image/png": "[encoded data removed]",
      "text/plain": [
       "<Figure size 432x288 with 1 Axes>"
      ]
     },
     "metadata": {
      "needs_background": "light"
     },
     "output_type": "display_data"
    }
   ],
   "source": [
    "data_asia.max().plot()\n",
    "print(data_asia.idxmax())\n",
    "print(data_asia.idxmin())"
   ]
  },
  {
   "cell_type": "markdown",
   "id": "f7d1d377-824e-4969-85ca-86b886142d95",
   "metadata": {},
   "source": [
    "### What are some observations you have of this plot?\n",
    "\n",
    "The GDP per capita suffered a dramatic decrease before slowly, but steadily, rising back up. "
   ]
  },
  {
   "cell_type": "markdown",
   "id": "fc0120c3-29de-4957-afd7-457473ef880a",
   "metadata": {},
   "source": [
    "## Save the plot\n",
    "\n",
    "If you are satisfied with the plot you see you may want to save it to a file, perhaps to include it in a publication. There is a function in the matplotlib.pyplot module that accomplishes this: savefig. Calling this function, e.g. with\n",
    "\n",
    "`plt.savefig('my_figure.png')`\n",
    "\n",
    "will save the current figure to the file my_figure.png. The file format will automatically be deduced from the file name extension (other formats are pdf, ps, eps and svg).\n",
    "\n",
    "Note that functions in plt refer to a global figure variable and after a figure has been displayed to the screen (e.g. with plt.show) matplotlib will make this variable refer to a new empty figure. Therefore, make sure you call plt.savefig before the plot is displayed to the screen, otherwise you may find a file with an empty plot.\n",
    "\n",
    "When using dataframes, data is often generated and plotted to screen in one line, and plt.savefig seems not to be a possible approach. One possibility to save the figure to file is then to \n",
    "- save a reference to the current figure in a local variable (with plt.gcf)\n",
    "- call the savefig class method from that variable.\n",
    "\n",
    "```\n",
    "fig = plt.gcf() # get current figure\n",
    "data.plot(kind='bar')\n",
    "fig.savefig('my_figure.png')\n",
    "```\n",
    "\n",
    "**Go ahead and save the plot produced by `data_asia.max().plot()` to a figure**"
   ]
  },
  {
   "cell_type": "code",
   "execution_count": 21,
   "id": "3bf52ebd-6ff1-42ce-a419-d7bf8203f9bc",
   "metadata": {},
   "outputs": [
    {
     "data": {
      "image/png": "[encoded data removed]",
      "text/plain": [
       "<Figure size 432x288 with 1 Axes>"
      ]
     },
     "metadata": {
      "needs_background": "light"
     },
     "output_type": "display_data"
    }
   ],
   "source": [
    "import matplotlib.pyplot as plt\n",
    "data_asia.max().plot()\n",
    "fig = plt.gcf()\n",
    "fig.savefig('Max GDP per Capita for Asia.png')"
   ]
  },
  {
   "cell_type": "code",
   "execution_count": null,
   "id": "986b4563",
   "metadata": {},
   "outputs": [],
   "source": []
  }
 ],
 "metadata": {
  "kernelspec": {
   "display_name": "Python 3 (ipykernel)",
   "language": "python",
   "name": "python3"
  },
  "language_info": {
   "codemirror_mode": {
    "name": "ipython",
    "version": 3
   },
   "file_extension": ".py",
   "mimetype": "text/x-python",
   "name": "python",
   "nbconvert_exporter": "python",
   "pygments_lexer": "ipython3",
   "version": "3.9.12"
  }
 },
 "nbformat": 4,
 "nbformat_minor": 5
}
